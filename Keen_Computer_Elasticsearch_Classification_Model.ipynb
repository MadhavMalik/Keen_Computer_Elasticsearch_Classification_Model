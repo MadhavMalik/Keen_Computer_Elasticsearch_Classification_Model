{
  "nbformat": 4,
  "nbformat_minor": 0,
  "metadata": {
    "colab": {
      "provenance": []
    },
    "kernelspec": {
      "name": "python3",
      "display_name": "Python 3"
    },
    "language_info": {
      "name": "python"
    }
  },
  "cells": [
    {
      "cell_type": "code",
      "source": [
        "import pandas as pd\n",
        "\n",
        "data = pd.DataFrame({\n",
        "    'product_description': [\n",
        "        \"8GB DDR4 SODIMM laptop memory\",\n",
        "        \"16GB DDR4 DIMM desktop RAM\",\n",
        "        \"Crucial 8GB DDR3 SODIMM laptop memory\",\n",
        "        \"Kingston 4GB DDR4 DIMM desktop RAM\",\n",
        "        \"Samsung 8GB DDR4 SODIMM laptop memory\",\n",
        "        \"Corsair Vengeance 16GB DDR4 DIMM desktop RAM\",\n",
        "        \"HP 4GB DDR3 SODIMM laptop memory\",\n",
        "        \"Crucial 16GB DDR4 DIMM desktop RAM\",\n",
        "        \"G.Skill Ripjaws 8GB DDR4 SODIMM laptop memory\",\n",
        "        \"ADATA XPG 16GB DDR4 DIMM desktop RAM\",\n",
        "        \"Transcend 4GB DDR3 SODIMM laptop memory\",\n",
        "        \"HyperX Fury 8GB DDR4 DIMM desktop RAM\",\n",
        "        \"Crucial Ballistix 8GB DDR4 SODIMM laptop memory\",\n",
        "        \"Corsair Vengeance LPX 16GB DDR4 DIMM desktop RAM\",\n",
        "        \"ADATA Premier 4GB DDR3 SODIMM laptop memory\",\n",
        "        \"G.Skill Trident Z 32GB DDR4 DIMM desktop RAM\",\n",
        "        \"Corsair Vengeance RGB Pro 32GB DDR4 DIMM desktop RAM\",\n",
        "        \"Patriot Viper Steel 16GB DDR4 SODIMM laptop memory\",\n",
        "        \"Crucial Ballistix 32GB DDR4 DIMM desktop RAM\",\n",
        "        \"HyperX Fury RGB 8GB DDR4 SODIMM laptop memory\",\n",
        "        \"Corsair Vengeance LPX 64GB DDR4 DIMM desktop RAM\",\n",
        "        \"Kingston HyperX Impact 32GB DDR4 SODIMM laptop memory\",\n",
        "        \"G.Skill Trident Z Neo 64GB DDR4 DIMM desktop RAM\",\n",
        "        \"Corsair Vengeance RGB Pro 128GB DDR4 DIMM desktop RAM\",\n",
        "        \"Crucial Ballistix Max 64GB DDR4 SODIMM laptop memory\",\n",
        "        \"ADATA XPG Spectrix D60G 32GB DDR4 DIMM desktop RAM\",\n",
        "        \"Kingston HyperX Fury 16GB DDR4 SODIMM laptop memory\",\n",
        "        \"Corsair Dominator Platinum RGB 32GB DDR4 DIMM desktop RAM\",\n",
        "        \"G.Skill Ripjaws V 128GB DDR4 SODIMM laptop memory\",\n",
        "        \"ADATA XPG Spectrix D50 64GB DDR4 DIMM desktop RAM\"\n",
        "    ],\n",
        "    'label': [\n",
        "        'laptop',\n",
        "        'desktop',\n",
        "        'laptop',\n",
        "        'desktop',\n",
        "        'laptop',\n",
        "        'desktop',\n",
        "        'laptop',\n",
        "        'desktop',\n",
        "        'laptop',\n",
        "        'desktop',\n",
        "        'laptop',\n",
        "        'desktop',\n",
        "        'laptop',\n",
        "        'desktop',\n",
        "        'laptop',\n",
        "        'desktop',\n",
        "        'desktop',\n",
        "        'laptop',\n",
        "        'desktop',\n",
        "        'laptop',\n",
        "        'desktop',\n",
        "        'laptop',\n",
        "        'desktop',\n",
        "        'desktop',\n",
        "        'laptop',\n",
        "        'desktop',\n",
        "        'laptop',\n",
        "        'desktop',\n",
        "        'laptop',\n",
        "        'desktop'\n",
        "    ]\n",
        "})\n"
      ],
      "metadata": {
        "id": "vTZQg60oayUv"
      },
      "execution_count": null,
      "outputs": []
    },
    {
      "cell_type": "code",
      "execution_count": null,
      "metadata": {
        "colab": {
          "base_uri": "https://localhost:8080/",
          "height": 75
        },
        "id": "1F319cihar-d",
        "outputId": "e65bde00-1c08-4e6c-97d2-b4673129dcea"
      },
      "outputs": [
        {
          "output_type": "execute_result",
          "data": {
            "text/plain": [
              "LogisticRegression()"
            ],
            "text/html": [
              "<style>#sk-container-id-1 {color: black;background-color: white;}#sk-container-id-1 pre{padding: 0;}#sk-container-id-1 div.sk-toggleable {background-color: white;}#sk-container-id-1 label.sk-toggleable__label {cursor: pointer;display: block;width: 100%;margin-bottom: 0;padding: 0.3em;box-sizing: border-box;text-align: center;}#sk-container-id-1 label.sk-toggleable__label-arrow:before {content: \"▸\";float: left;margin-right: 0.25em;color: #696969;}#sk-container-id-1 label.sk-toggleable__label-arrow:hover:before {color: black;}#sk-container-id-1 div.sk-estimator:hover label.sk-toggleable__label-arrow:before {color: black;}#sk-container-id-1 div.sk-toggleable__content {max-height: 0;max-width: 0;overflow: hidden;text-align: left;background-color: #f0f8ff;}#sk-container-id-1 div.sk-toggleable__content pre {margin: 0.2em;color: black;border-radius: 0.25em;background-color: #f0f8ff;}#sk-container-id-1 input.sk-toggleable__control:checked~div.sk-toggleable__content {max-height: 200px;max-width: 100%;overflow: auto;}#sk-container-id-1 input.sk-toggleable__control:checked~label.sk-toggleable__label-arrow:before {content: \"▾\";}#sk-container-id-1 div.sk-estimator input.sk-toggleable__control:checked~label.sk-toggleable__label {background-color: #d4ebff;}#sk-container-id-1 div.sk-label input.sk-toggleable__control:checked~label.sk-toggleable__label {background-color: #d4ebff;}#sk-container-id-1 input.sk-hidden--visually {border: 0;clip: rect(1px 1px 1px 1px);clip: rect(1px, 1px, 1px, 1px);height: 1px;margin: -1px;overflow: hidden;padding: 0;position: absolute;width: 1px;}#sk-container-id-1 div.sk-estimator {font-family: monospace;background-color: #f0f8ff;border: 1px dotted black;border-radius: 0.25em;box-sizing: border-box;margin-bottom: 0.5em;}#sk-container-id-1 div.sk-estimator:hover {background-color: #d4ebff;}#sk-container-id-1 div.sk-parallel-item::after {content: \"\";width: 100%;border-bottom: 1px solid gray;flex-grow: 1;}#sk-container-id-1 div.sk-label:hover label.sk-toggleable__label {background-color: #d4ebff;}#sk-container-id-1 div.sk-serial::before {content: \"\";position: absolute;border-left: 1px solid gray;box-sizing: border-box;top: 0;bottom: 0;left: 50%;z-index: 0;}#sk-container-id-1 div.sk-serial {display: flex;flex-direction: column;align-items: center;background-color: white;padding-right: 0.2em;padding-left: 0.2em;position: relative;}#sk-container-id-1 div.sk-item {position: relative;z-index: 1;}#sk-container-id-1 div.sk-parallel {display: flex;align-items: stretch;justify-content: center;background-color: white;position: relative;}#sk-container-id-1 div.sk-item::before, #sk-container-id-1 div.sk-parallel-item::before {content: \"\";position: absolute;border-left: 1px solid gray;box-sizing: border-box;top: 0;bottom: 0;left: 50%;z-index: -1;}#sk-container-id-1 div.sk-parallel-item {display: flex;flex-direction: column;z-index: 1;position: relative;background-color: white;}#sk-container-id-1 div.sk-parallel-item:first-child::after {align-self: flex-end;width: 50%;}#sk-container-id-1 div.sk-parallel-item:last-child::after {align-self: flex-start;width: 50%;}#sk-container-id-1 div.sk-parallel-item:only-child::after {width: 0;}#sk-container-id-1 div.sk-dashed-wrapped {border: 1px dashed gray;margin: 0 0.4em 0.5em 0.4em;box-sizing: border-box;padding-bottom: 0.4em;background-color: white;}#sk-container-id-1 div.sk-label label {font-family: monospace;font-weight: bold;display: inline-block;line-height: 1.2em;}#sk-container-id-1 div.sk-label-container {text-align: center;}#sk-container-id-1 div.sk-container {/* jupyter's `normalize.less` sets `[hidden] { display: none; }` but bootstrap.min.css set `[hidden] { display: none !important; }` so we also need the `!important` here to be able to override the default hidden behavior on the sphinx rendered scikit-learn.org. See: https://github.com/scikit-learn/scikit-learn/issues/21755 */display: inline-block !important;position: relative;}#sk-container-id-1 div.sk-text-repr-fallback {display: none;}</style><div id=\"sk-container-id-1\" class=\"sk-top-container\"><div class=\"sk-text-repr-fallback\"><pre>LogisticRegression()</pre><b>In a Jupyter environment, please rerun this cell to show the HTML representation or trust the notebook. <br />On GitHub, the HTML representation is unable to render, please try loading this page with nbviewer.org.</b></div><div class=\"sk-container\" hidden><div class=\"sk-item\"><div class=\"sk-estimator sk-toggleable\"><input class=\"sk-toggleable__control sk-hidden--visually\" id=\"sk-estimator-id-1\" type=\"checkbox\" checked><label for=\"sk-estimator-id-1\" class=\"sk-toggleable__label sk-toggleable__label-arrow\">LogisticRegression</label><div class=\"sk-toggleable__content\"><pre>LogisticRegression()</pre></div></div></div></div></div>"
            ]
          },
          "metadata": {},
          "execution_count": 4
        }
      ],
      "source": [
        "from sklearn.model_selection import train_test_split\n",
        "from sklearn.feature_extraction.text import TfidfVectorizer\n",
        "from sklearn.linear_model import LogisticRegression\n",
        "from sklearn.metrics import accuracy_score\n",
        "\n",
        "X = data['product_description']\n",
        "y = data['label']  # 'laptop' or 'desktop'\n",
        "\n",
        "X_train, X_test, y_train, y_test = train_test_split(X, y, test_size=0.2, random_state=42)\n",
        "\n",
        "vectorizer = TfidfVectorizer()\n",
        "X_train_vectorized = vectorizer.fit_transform(X_train)\n",
        "X_test_vectorized = vectorizer.transform(X_test)\n",
        "\n",
        "model = LogisticRegression()\n",
        "model.fit(X_train_vectorized, y_train)\n"
      ]
    },
    {
      "cell_type": "code",
      "source": [
        "#Pick a RAM product from Amazon or any other website, and replace the string below to classify the product\n",
        "new_input = \"Dolgix 4GB DDR3 RAM | 1333MHz RAM (Memory) U-DIMM | Long-DIMM | CL-9 | PC3-10600 |2Rx8 Dual Rank\n",
        "\\\"| 3 Years Warranty- (Made in India)\"\n"
      ],
      "metadata": {
        "id": "4XFRAeYP1o-5"
      },
      "execution_count": null,
      "outputs": []
    },
    {
      "cell_type": "code",
      "source": [
        "from sklearn.preprocessing import LabelEncoder\n",
        "\n",
        "new_input_vectorized = vectorizer.transform([new_input])\n",
        "\n",
        "prediction_probabilities = model.predict_proba(new_input_vectorized)\n",
        "predicted_class_index = prediction_probabilities.argmax()\n",
        "class_labels = model.classes_\n",
        "predicted_class = class_labels[predicted_class_index]\n",
        "predicted_probability = prediction_probabilities[0][predicted_class_index]\n",
        "confidence_percentage = predicted_probability * 100\n",
        "\n",
        "print(\"Predicted Class:\", predicted_class)\n",
        "print(\"Confidence Percentage:\", confidence_percentage)\n"
      ],
      "metadata": {
        "colab": {
          "base_uri": "https://localhost:8080/"
        },
        "id": "kTlshEdIa3Xc",
        "outputId": "fbeb89d1-5701-4392-83c1-3ecd3f71cd98"
      },
      "execution_count": null,
      "outputs": [
        {
          "output_type": "stream",
          "name": "stdout",
          "text": [
            "Predicted Class: desktop\n",
            "Confidence Percentage: 61.240309215856655\n"
          ]
        }
      ]
    },
    {
      "cell_type": "code",
      "source": [
        "y_pred = model.predict(X_test_vectorized)\n",
        "accuracy = accuracy_score(y_test, y_pred)\n",
        "print(\"Accuracy:\", accuracy)"
      ],
      "metadata": {
        "colab": {
          "base_uri": "https://localhost:8080/"
        },
        "id": "MI7UiT25barf",
        "outputId": "eb44a794-2f69-42ad-ecfc-dfc88f9c6369"
      },
      "execution_count": null,
      "outputs": [
        {
          "output_type": "stream",
          "name": "stdout",
          "text": [
            "Accuracy: 1.0\n"
          ]
        }
      ]
    },
    {
      "cell_type": "code",
      "source": [],
      "metadata": {
        "id": "gRSGYGL9YDn8"
      },
      "execution_count": null,
      "outputs": []
    }
  ]
}